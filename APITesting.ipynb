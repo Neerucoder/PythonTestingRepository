{
  "nbformat": 4,
  "nbformat_minor": 0,
  "metadata": {
    "colab": {
      "name": "APITesting.ipynb",
      "provenance": [],
      "authorship_tag": "ABX9TyNZGSUJL5QCkXG+zYbvtenD",
      "include_colab_link": true
    },
    "kernelspec": {
      "name": "python3",
      "display_name": "Python 3"
    },
    "language_info": {
      "name": "python"
    }
  },
  "cells": [
    {
      "cell_type": "markdown",
      "metadata": {
        "id": "view-in-github",
        "colab_type": "text"
      },
      "source": [
        "<a href=\"https://colab.research.google.com/github/Neerucoder/PythonTestingRepository/blob/main/APITesting.ipynb\" target=\"_parent\"><img src=\"https://colab.research.google.com/assets/colab-badge.svg\" alt=\"Open In Colab\"/></a>"
      ]
    },
    {
      "cell_type": "code",
      "metadata": {
        "colab": {
          "base_uri": "https://localhost:8080/"
        },
        "id": "hwjmDTiAdaFz",
        "outputId": "dcc4fc59-9c87-4d71-aef5-8e9952c9322e"
      },
      "source": [
        "!pip install jsonpath"
      ],
      "execution_count": 1,
      "outputs": [
        {
          "output_type": "stream",
          "text": [
            "Collecting jsonpath\n",
            "  Downloading https://files.pythonhosted.org/packages/5f/c0/b54189dfe62f1a93ba294ab53508a81d440fc63adff253db369f557a996a/jsonpath-0.82.tar.gz\n",
            "Building wheels for collected packages: jsonpath\n",
            "  Building wheel for jsonpath (setup.py) ... \u001b[?25l\u001b[?25hdone\n",
            "  Created wheel for jsonpath: filename=jsonpath-0.82-cp37-none-any.whl size=5614 sha256=f670ae6b6bd2d7ddcef25582dad23b339f24b96dc4c5a2432a06623e31f6687e\n",
            "  Stored in directory: /root/.cache/pip/wheels/56/b6/9d/ae7d569de9d6bb81e16ab829e11cb310c7559fcff5e30a1f83\n",
            "Successfully built jsonpath\n",
            "Installing collected packages: jsonpath\n",
            "Successfully installed jsonpath-0.82\n"
          ],
          "name": "stdout"
        }
      ]
    },
    {
      "cell_type": "code",
      "metadata": {
        "id": "yckdX0CgS9gV"
      },
      "source": [
        "import requests\n",
        "import json\n",
        "import jsonpath"
      ],
      "execution_count": 2,
      "outputs": []
    },
    {
      "cell_type": "code",
      "metadata": {
        "id": "14i6sXyHTT4f"
      },
      "source": [
        "url = \" https://gorest.co.in/public-api/users\" #URL for Testing\n",
        "url2 = \" https://gorest.co.in/public-api/users/122\" \n",
        "url4 = \" https://gorest.co.in/public-api/users/123\"\n",
        "url5 = \" https://gorest.co.in/public-api/users/121\"\n",
        "url3 = \"https://reqres.in/api/users/2\"#Delete "
      ],
      "execution_count": 3,
      "outputs": []
    },
    {
      "cell_type": "code",
      "metadata": {
        "id": "wupvusyTVN9m"
      },
      "source": [
        "def ProcessingGetRequestsUsingRequestMultipleFiles(URLTested):#Building GET Request Test Cases\n",
        "  response = requests.get(URLTested)\n",
        "  print(\"Response: \",response) #Checking Response\n",
        "  print(\"Content: \",response.content) #Checking Content\n",
        "  print(response.text) #Printing Text data of Request\n",
        "  assert response.status_code == 200\n",
        "  requests.get(URLTested, verify=True)\n",
        "  print(\"Header: \",response.headers) #Loading Headers\n",
        "  json_response = json.loads(response.text) #Getting Response in JSON Format\n",
        "  print(\"JSON: \", json_response)\n",
        "  pages = jsonpath.jsonpath(json_response,'data') #Getting Total Pages\n",
        "  print(pages)\n",
        "  payload = { 'gender': 'Female'}\n",
        "  payload2 = { 'gender': 'Male'}\n",
        "  r = requests.get(URLTested, params=payload)\n",
        "  r2 = requests.get(URLTested, params=payload2)\n",
        "  print(\"Request with Male Payload: \", r2)\n",
        "  print(\"Request with Female Payload: \",r)\n",
        "  print(\"Female Payload Request content: \",r.content)\n",
        "  print(\"Male Payload Request content: \",r2.content)"
      ],
      "execution_count": 4,
      "outputs": []
    },
    {
      "cell_type": "code",
      "metadata": {
        "id": "v60vYfcSsZMI"
      },
      "source": [
        "def ProcessingGetRequestsUsingRequestSingleFiles(URLTested):#Building GET Request Test Cases for a single user data\n",
        "  response = requests.get(URLTested)\n",
        "  print(\"Response For:\", URLTested)\n",
        "  print(\"Response: \",response) #Checking Response\n",
        "  print(\"Content: \",response.content) #Checking Content\n",
        "  print(response.text) #Printing Text data of Request\n",
        "  assert response.status_code == 200\n",
        "  requests.get(URLTested, verify=True)\n",
        "  people_json  = response.json()\n",
        "  if(people_json['code']==200): #As Long as Response has data code will be 200 else it will be 404 even though status code is 200\n",
        "    print(people_json['data']['id'])\n",
        "    print(people_json['data']['name'])\n",
        "    print(people_json['data']['email'])\n",
        "    print(people_json['data']['gender'])\n",
        "    print(people_json['data']['status'])\n",
        "    print(people_json['data']['created_at'])\n",
        "    print(people_json['data']['updated_at'])\n",
        "    print(\"Is the User Male: \", people_json['data']['gender']=='Male') #Testing If Gender given is Male\n",
        "  else:\n",
        "    print(people_json['data']['message'])\n"
      ],
      "execution_count": 5,
      "outputs": []
    },
    {
      "cell_type": "code",
      "metadata": {
        "colab": {
          "base_uri": "https://localhost:8080/"
        },
        "id": "E7Piwz4yTly8",
        "outputId": "6835bafc-9150-4601-bbe4-f6b5b9c309b3"
      },
      "source": [
        "ProcessingGetRequestsUsingRequestMultipleFiles(url)"
      ],
      "execution_count": 6,
      "outputs": [
        {
          "output_type": "stream",
          "text": [
            "Response:  <Response [200]>\n",
            "Content:  b'{\"code\":200,\"meta\":{\"pagination\":{\"total\":1436,\"pages\":72,\"page\":1,\"limit\":20}},\"data\":[{\"id\":26,\"name\":\"Washington Luis Cabral da Silva\",\"email\":\"wluissilva@live.com\",\"gender\":\"Male\",\"status\":\"Active\",\"created_at\":\"2021-04-08T03:50:04.511+05:30\",\"updated_at\":\"2021-04-08T08:32:46.145+05:30\"},{\"id\":33,\"name\":\"Rukmin Deshpande\",\"email\":\"deshpande_rukmin@walker.io\",\"gender\":\"Male\",\"status\":\"Inactive\",\"created_at\":\"2021-04-08T03:50:04.624+05:30\",\"updated_at\":\"2021-04-08T03:50:04.624+05:30\"},{\"id\":34,\"name\":\"Chiranjeeve Somayaji\",\"email\":\"chiranjeeve_somayaji@batz.biz\",\"gender\":\"Male\",\"status\":\"Active\",\"created_at\":\"2021-04-08T03:50:04.633+05:30\",\"updated_at\":\"2021-04-08T03:50:04.633+05:30\"},{\"id\":35,\"name\":\"Bhagirathi Kocchar IV\",\"email\":\"bhagirathi_kocchar_iv@lehner.biz\",\"gender\":\"Male\",\"status\":\"Inactive\",\"created_at\":\"2021-04-08T03:50:04.637+05:30\",\"updated_at\":\"2021-04-08T03:50:04.637+05:30\"},{\"id\":36,\"name\":\"Anasuya Shah III\",\"email\":\"anasuya_shah_iii@barrows.org\",\"gender\":\"Male\",\"status\":\"Active\",\"created_at\":\"2021-04-08T03:50:04.648+05:30\",\"updated_at\":\"2021-04-08T03:50:04.648+05:30\"},{\"id\":37,\"name\":\"Aruna Johar\",\"email\":\"johar_aruna@ruecker-sawayn.info\",\"gender\":\"Female\",\"status\":\"Active\",\"created_at\":\"2021-04-08T03:50:04.663+05:30\",\"updated_at\":\"2021-04-08T03:50:04.663+05:30\"},{\"id\":39,\"name\":\"Kamala Bandopadhyay\",\"email\":\"bandopadhyay_kamala@krajcik.info\",\"gender\":\"Male\",\"status\":\"Inactive\",\"created_at\":\"2021-04-08T03:50:04.701+05:30\",\"updated_at\":\"2021-04-08T03:50:04.701+05:30\"},{\"id\":41,\"name\":\"The Hon. Usha Arora\",\"email\":\"arora_usha_hon_the@dubuque-daugherty.info\",\"gender\":\"Male\",\"status\":\"Active\",\"created_at\":\"2021-04-08T03:50:04.719+05:30\",\"updated_at\":\"2021-04-08T03:50:04.719+05:30\"},{\"id\":42,\"name\":\"Tara Dubashi DO\",\"email\":\"dubashi_do_tara@barrows.biz\",\"gender\":\"Female\",\"status\":\"Inactive\",\"created_at\":\"2021-04-08T03:50:04.737+05:30\",\"updated_at\":\"2021-04-08T03:50:04.737+05:30\"},{\"id\":45,\"name\":\"Deepesh Verma\",\"email\":\"deepesh_verma@brakus-mohr.co\",\"gender\":\"Female\",\"status\":\"Active\",\"created_at\":\"2021-04-08T03:50:04.762+05:30\",\"updated_at\":\"2021-04-08T03:50:04.762+05:30\"},{\"id\":47,\"name\":\"Fr. Amrita Jain\",\"email\":\"amrita_fr_jain@ratke.co\",\"gender\":\"Female\",\"status\":\"Active\",\"created_at\":\"2021-04-08T03:50:04.786+05:30\",\"updated_at\":\"2021-04-08T03:50:04.786+05:30\"},{\"id\":48,\"name\":\"Chaten Acharya\",\"email\":\"acharya_chaten@monahan-collins.info\",\"gender\":\"Female\",\"status\":\"Active\",\"created_at\":\"2021-04-08T03:50:04.817+05:30\",\"updated_at\":\"2021-04-08T03:50:04.817+05:30\"},{\"id\":49,\"name\":\"Ambar Namboothiri CPA\",\"email\":\"cpa_namboothiri_ambar@effertz.org\",\"gender\":\"Male\",\"status\":\"Active\",\"created_at\":\"2021-04-08T03:50:04.822+05:30\",\"updated_at\":\"2021-04-08T03:50:04.822+05:30\"},{\"id\":51,\"name\":\"Kanaka Panicker\",\"email\":\"kanaka_panicker@gusikowski-johns.com\",\"gender\":\"Male\",\"status\":\"Inactive\",\"created_at\":\"2021-04-08T03:50:04.856+05:30\",\"updated_at\":\"2021-04-08T03:50:04.856+05:30\"},{\"id\":53,\"name\":\"Baala Varman\",\"email\":\"baala_varman@murazik.com\",\"gender\":\"Female\",\"status\":\"Active\",\"created_at\":\"2021-04-08T03:50:04.882+05:30\",\"updated_at\":\"2021-04-08T03:50:04.882+05:30\"},{\"id\":54,\"name\":\"Subodh Sharma\",\"email\":\"sharma_subodh@jones.info\",\"gender\":\"Male\",\"status\":\"Inactive\",\"created_at\":\"2021-04-08T03:50:04.890+05:30\",\"updated_at\":\"2021-04-08T03:50:04.890+05:30\"},{\"id\":55,\"name\":\"Bhasvan Tandon\",\"email\":\"tandon_bhasvan@treutel.io\",\"gender\":\"Female\",\"status\":\"Active\",\"created_at\":\"2021-04-08T03:50:04.905+05:30\",\"updated_at\":\"2021-04-08T03:50:04.905+05:30\"},{\"id\":56,\"name\":\"Lal Somayaji\",\"email\":\"lal_somayaji@kirlin.io\",\"gender\":\"Male\",\"status\":\"Active\",\"created_at\":\"2021-04-08T03:50:04.923+05:30\",\"updated_at\":\"2021-04-08T03:50:04.923+05:30\"},{\"id\":57,\"name\":\"Miss Dulari Panicker\",\"email\":\"panicker_miss_dulari@rogahn-kovacek.biz\",\"gender\":\"Female\",\"status\":\"Active\",\"created_at\":\"2021-04-08T03:50:04.933+05:30\",\"updated_at\":\"2021-04-08T03:50:04.933+05:30\"},{\"id\":58,\"name\":\"Shubhaprada Khatri\",\"email\":\"shubhaprada_khatri@wilderman.name\",\"gender\":\"Male\",\"status\":\"Active\",\"created_at\":\"2021-04-08T03:50:04.943+05:30\",\"updated_at\":\"2021-04-08T03:50:04.943+05:30\"}]}'\n",
            "{\"code\":200,\"meta\":{\"pagination\":{\"total\":1436,\"pages\":72,\"page\":1,\"limit\":20}},\"data\":[{\"id\":26,\"name\":\"Washington Luis Cabral da Silva\",\"email\":\"wluissilva@live.com\",\"gender\":\"Male\",\"status\":\"Active\",\"created_at\":\"2021-04-08T03:50:04.511+05:30\",\"updated_at\":\"2021-04-08T08:32:46.145+05:30\"},{\"id\":33,\"name\":\"Rukmin Deshpande\",\"email\":\"deshpande_rukmin@walker.io\",\"gender\":\"Male\",\"status\":\"Inactive\",\"created_at\":\"2021-04-08T03:50:04.624+05:30\",\"updated_at\":\"2021-04-08T03:50:04.624+05:30\"},{\"id\":34,\"name\":\"Chiranjeeve Somayaji\",\"email\":\"chiranjeeve_somayaji@batz.biz\",\"gender\":\"Male\",\"status\":\"Active\",\"created_at\":\"2021-04-08T03:50:04.633+05:30\",\"updated_at\":\"2021-04-08T03:50:04.633+05:30\"},{\"id\":35,\"name\":\"Bhagirathi Kocchar IV\",\"email\":\"bhagirathi_kocchar_iv@lehner.biz\",\"gender\":\"Male\",\"status\":\"Inactive\",\"created_at\":\"2021-04-08T03:50:04.637+05:30\",\"updated_at\":\"2021-04-08T03:50:04.637+05:30\"},{\"id\":36,\"name\":\"Anasuya Shah III\",\"email\":\"anasuya_shah_iii@barrows.org\",\"gender\":\"Male\",\"status\":\"Active\",\"created_at\":\"2021-04-08T03:50:04.648+05:30\",\"updated_at\":\"2021-04-08T03:50:04.648+05:30\"},{\"id\":37,\"name\":\"Aruna Johar\",\"email\":\"johar_aruna@ruecker-sawayn.info\",\"gender\":\"Female\",\"status\":\"Active\",\"created_at\":\"2021-04-08T03:50:04.663+05:30\",\"updated_at\":\"2021-04-08T03:50:04.663+05:30\"},{\"id\":39,\"name\":\"Kamala Bandopadhyay\",\"email\":\"bandopadhyay_kamala@krajcik.info\",\"gender\":\"Male\",\"status\":\"Inactive\",\"created_at\":\"2021-04-08T03:50:04.701+05:30\",\"updated_at\":\"2021-04-08T03:50:04.701+05:30\"},{\"id\":41,\"name\":\"The Hon. Usha Arora\",\"email\":\"arora_usha_hon_the@dubuque-daugherty.info\",\"gender\":\"Male\",\"status\":\"Active\",\"created_at\":\"2021-04-08T03:50:04.719+05:30\",\"updated_at\":\"2021-04-08T03:50:04.719+05:30\"},{\"id\":42,\"name\":\"Tara Dubashi DO\",\"email\":\"dubashi_do_tara@barrows.biz\",\"gender\":\"Female\",\"status\":\"Inactive\",\"created_at\":\"2021-04-08T03:50:04.737+05:30\",\"updated_at\":\"2021-04-08T03:50:04.737+05:30\"},{\"id\":45,\"name\":\"Deepesh Verma\",\"email\":\"deepesh_verma@brakus-mohr.co\",\"gender\":\"Female\",\"status\":\"Active\",\"created_at\":\"2021-04-08T03:50:04.762+05:30\",\"updated_at\":\"2021-04-08T03:50:04.762+05:30\"},{\"id\":47,\"name\":\"Fr. Amrita Jain\",\"email\":\"amrita_fr_jain@ratke.co\",\"gender\":\"Female\",\"status\":\"Active\",\"created_at\":\"2021-04-08T03:50:04.786+05:30\",\"updated_at\":\"2021-04-08T03:50:04.786+05:30\"},{\"id\":48,\"name\":\"Chaten Acharya\",\"email\":\"acharya_chaten@monahan-collins.info\",\"gender\":\"Female\",\"status\":\"Active\",\"created_at\":\"2021-04-08T03:50:04.817+05:30\",\"updated_at\":\"2021-04-08T03:50:04.817+05:30\"},{\"id\":49,\"name\":\"Ambar Namboothiri CPA\",\"email\":\"cpa_namboothiri_ambar@effertz.org\",\"gender\":\"Male\",\"status\":\"Active\",\"created_at\":\"2021-04-08T03:50:04.822+05:30\",\"updated_at\":\"2021-04-08T03:50:04.822+05:30\"},{\"id\":51,\"name\":\"Kanaka Panicker\",\"email\":\"kanaka_panicker@gusikowski-johns.com\",\"gender\":\"Male\",\"status\":\"Inactive\",\"created_at\":\"2021-04-08T03:50:04.856+05:30\",\"updated_at\":\"2021-04-08T03:50:04.856+05:30\"},{\"id\":53,\"name\":\"Baala Varman\",\"email\":\"baala_varman@murazik.com\",\"gender\":\"Female\",\"status\":\"Active\",\"created_at\":\"2021-04-08T03:50:04.882+05:30\",\"updated_at\":\"2021-04-08T03:50:04.882+05:30\"},{\"id\":54,\"name\":\"Subodh Sharma\",\"email\":\"sharma_subodh@jones.info\",\"gender\":\"Male\",\"status\":\"Inactive\",\"created_at\":\"2021-04-08T03:50:04.890+05:30\",\"updated_at\":\"2021-04-08T03:50:04.890+05:30\"},{\"id\":55,\"name\":\"Bhasvan Tandon\",\"email\":\"tandon_bhasvan@treutel.io\",\"gender\":\"Female\",\"status\":\"Active\",\"created_at\":\"2021-04-08T03:50:04.905+05:30\",\"updated_at\":\"2021-04-08T03:50:04.905+05:30\"},{\"id\":56,\"name\":\"Lal Somayaji\",\"email\":\"lal_somayaji@kirlin.io\",\"gender\":\"Male\",\"status\":\"Active\",\"created_at\":\"2021-04-08T03:50:04.923+05:30\",\"updated_at\":\"2021-04-08T03:50:04.923+05:30\"},{\"id\":57,\"name\":\"Miss Dulari Panicker\",\"email\":\"panicker_miss_dulari@rogahn-kovacek.biz\",\"gender\":\"Female\",\"status\":\"Active\",\"created_at\":\"2021-04-08T03:50:04.933+05:30\",\"updated_at\":\"2021-04-08T03:50:04.933+05:30\"},{\"id\":58,\"name\":\"Shubhaprada Khatri\",\"email\":\"shubhaprada_khatri@wilderman.name\",\"gender\":\"Male\",\"status\":\"Active\",\"created_at\":\"2021-04-08T03:50:04.943+05:30\",\"updated_at\":\"2021-04-08T03:50:04.943+05:30\"}]}\n",
            "Header:  {'Server': 'nginx', 'Date': 'Thu, 08 Apr 2021 10:00:48 GMT', 'Content-Type': 'application/json; charset=utf-8', 'Transfer-Encoding': 'chunked', 'Connection': 'keep-alive', 'Vary': 'Accept-Encoding, Origin', 'X-Frame-Options': 'SAMEORIGIN, sameorigin', 'X-XSS-Protection': '1; mode=block', 'X-Content-Type-Options': 'nosniff', 'X-Download-Options': 'noopen', 'X-Permitted-Cross-Domain-Policies': 'none', 'Referrer-Policy': 'strict-origin-when-cross-origin', 'ETag': 'W/\"f4150bb501e4c22b1c51991cdff10320\"', 'Cache-Control': 'max-age=0, private, must-revalidate', 'X-Request-Id': '0a3003be-06e6-4fab-aee6-7d09369354ab', 'X-Runtime': '0.004817', 'Strict-Transport-Security': 'max-age=31536000; includeSubDomains', 'Expect-CT': 'enforce; max-age=3600', 'Content-Encoding': 'gzip'}\n",
            "JSON:  {'code': 200, 'meta': {'pagination': {'total': 1436, 'pages': 72, 'page': 1, 'limit': 20}}, 'data': [{'id': 26, 'name': 'Washington Luis Cabral da Silva', 'email': 'wluissilva@live.com', 'gender': 'Male', 'status': 'Active', 'created_at': '2021-04-08T03:50:04.511+05:30', 'updated_at': '2021-04-08T08:32:46.145+05:30'}, {'id': 33, 'name': 'Rukmin Deshpande', 'email': 'deshpande_rukmin@walker.io', 'gender': 'Male', 'status': 'Inactive', 'created_at': '2021-04-08T03:50:04.624+05:30', 'updated_at': '2021-04-08T03:50:04.624+05:30'}, {'id': 34, 'name': 'Chiranjeeve Somayaji', 'email': 'chiranjeeve_somayaji@batz.biz', 'gender': 'Male', 'status': 'Active', 'created_at': '2021-04-08T03:50:04.633+05:30', 'updated_at': '2021-04-08T03:50:04.633+05:30'}, {'id': 35, 'name': 'Bhagirathi Kocchar IV', 'email': 'bhagirathi_kocchar_iv@lehner.biz', 'gender': 'Male', 'status': 'Inactive', 'created_at': '2021-04-08T03:50:04.637+05:30', 'updated_at': '2021-04-08T03:50:04.637+05:30'}, {'id': 36, 'name': 'Anasuya Shah III', 'email': 'anasuya_shah_iii@barrows.org', 'gender': 'Male', 'status': 'Active', 'created_at': '2021-04-08T03:50:04.648+05:30', 'updated_at': '2021-04-08T03:50:04.648+05:30'}, {'id': 37, 'name': 'Aruna Johar', 'email': 'johar_aruna@ruecker-sawayn.info', 'gender': 'Female', 'status': 'Active', 'created_at': '2021-04-08T03:50:04.663+05:30', 'updated_at': '2021-04-08T03:50:04.663+05:30'}, {'id': 39, 'name': 'Kamala Bandopadhyay', 'email': 'bandopadhyay_kamala@krajcik.info', 'gender': 'Male', 'status': 'Inactive', 'created_at': '2021-04-08T03:50:04.701+05:30', 'updated_at': '2021-04-08T03:50:04.701+05:30'}, {'id': 41, 'name': 'The Hon. Usha Arora', 'email': 'arora_usha_hon_the@dubuque-daugherty.info', 'gender': 'Male', 'status': 'Active', 'created_at': '2021-04-08T03:50:04.719+05:30', 'updated_at': '2021-04-08T03:50:04.719+05:30'}, {'id': 42, 'name': 'Tara Dubashi DO', 'email': 'dubashi_do_tara@barrows.biz', 'gender': 'Female', 'status': 'Inactive', 'created_at': '2021-04-08T03:50:04.737+05:30', 'updated_at': '2021-04-08T03:50:04.737+05:30'}, {'id': 45, 'name': 'Deepesh Verma', 'email': 'deepesh_verma@brakus-mohr.co', 'gender': 'Female', 'status': 'Active', 'created_at': '2021-04-08T03:50:04.762+05:30', 'updated_at': '2021-04-08T03:50:04.762+05:30'}, {'id': 47, 'name': 'Fr. Amrita Jain', 'email': 'amrita_fr_jain@ratke.co', 'gender': 'Female', 'status': 'Active', 'created_at': '2021-04-08T03:50:04.786+05:30', 'updated_at': '2021-04-08T03:50:04.786+05:30'}, {'id': 48, 'name': 'Chaten Acharya', 'email': 'acharya_chaten@monahan-collins.info', 'gender': 'Female', 'status': 'Active', 'created_at': '2021-04-08T03:50:04.817+05:30', 'updated_at': '2021-04-08T03:50:04.817+05:30'}, {'id': 49, 'name': 'Ambar Namboothiri CPA', 'email': 'cpa_namboothiri_ambar@effertz.org', 'gender': 'Male', 'status': 'Active', 'created_at': '2021-04-08T03:50:04.822+05:30', 'updated_at': '2021-04-08T03:50:04.822+05:30'}, {'id': 51, 'name': 'Kanaka Panicker', 'email': 'kanaka_panicker@gusikowski-johns.com', 'gender': 'Male', 'status': 'Inactive', 'created_at': '2021-04-08T03:50:04.856+05:30', 'updated_at': '2021-04-08T03:50:04.856+05:30'}, {'id': 53, 'name': 'Baala Varman', 'email': 'baala_varman@murazik.com', 'gender': 'Female', 'status': 'Active', 'created_at': '2021-04-08T03:50:04.882+05:30', 'updated_at': '2021-04-08T03:50:04.882+05:30'}, {'id': 54, 'name': 'Subodh Sharma', 'email': 'sharma_subodh@jones.info', 'gender': 'Male', 'status': 'Inactive', 'created_at': '2021-04-08T03:50:04.890+05:30', 'updated_at': '2021-04-08T03:50:04.890+05:30'}, {'id': 55, 'name': 'Bhasvan Tandon', 'email': 'tandon_bhasvan@treutel.io', 'gender': 'Female', 'status': 'Active', 'created_at': '2021-04-08T03:50:04.905+05:30', 'updated_at': '2021-04-08T03:50:04.905+05:30'}, {'id': 56, 'name': 'Lal Somayaji', 'email': 'lal_somayaji@kirlin.io', 'gender': 'Male', 'status': 'Active', 'created_at': '2021-04-08T03:50:04.923+05:30', 'updated_at': '2021-04-08T03:50:04.923+05:30'}, {'id': 57, 'name': 'Miss Dulari Panicker', 'email': 'panicker_miss_dulari@rogahn-kovacek.biz', 'gender': 'Female', 'status': 'Active', 'created_at': '2021-04-08T03:50:04.933+05:30', 'updated_at': '2021-04-08T03:50:04.933+05:30'}, {'id': 58, 'name': 'Shubhaprada Khatri', 'email': 'shubhaprada_khatri@wilderman.name', 'gender': 'Male', 'status': 'Active', 'created_at': '2021-04-08T03:50:04.943+05:30', 'updated_at': '2021-04-08T03:50:04.943+05:30'}]}\n",
            "[[{'id': 26, 'name': 'Washington Luis Cabral da Silva', 'email': 'wluissilva@live.com', 'gender': 'Male', 'status': 'Active', 'created_at': '2021-04-08T03:50:04.511+05:30', 'updated_at': '2021-04-08T08:32:46.145+05:30'}, {'id': 33, 'name': 'Rukmin Deshpande', 'email': 'deshpande_rukmin@walker.io', 'gender': 'Male', 'status': 'Inactive', 'created_at': '2021-04-08T03:50:04.624+05:30', 'updated_at': '2021-04-08T03:50:04.624+05:30'}, {'id': 34, 'name': 'Chiranjeeve Somayaji', 'email': 'chiranjeeve_somayaji@batz.biz', 'gender': 'Male', 'status': 'Active', 'created_at': '2021-04-08T03:50:04.633+05:30', 'updated_at': '2021-04-08T03:50:04.633+05:30'}, {'id': 35, 'name': 'Bhagirathi Kocchar IV', 'email': 'bhagirathi_kocchar_iv@lehner.biz', 'gender': 'Male', 'status': 'Inactive', 'created_at': '2021-04-08T03:50:04.637+05:30', 'updated_at': '2021-04-08T03:50:04.637+05:30'}, {'id': 36, 'name': 'Anasuya Shah III', 'email': 'anasuya_shah_iii@barrows.org', 'gender': 'Male', 'status': 'Active', 'created_at': '2021-04-08T03:50:04.648+05:30', 'updated_at': '2021-04-08T03:50:04.648+05:30'}, {'id': 37, 'name': 'Aruna Johar', 'email': 'johar_aruna@ruecker-sawayn.info', 'gender': 'Female', 'status': 'Active', 'created_at': '2021-04-08T03:50:04.663+05:30', 'updated_at': '2021-04-08T03:50:04.663+05:30'}, {'id': 39, 'name': 'Kamala Bandopadhyay', 'email': 'bandopadhyay_kamala@krajcik.info', 'gender': 'Male', 'status': 'Inactive', 'created_at': '2021-04-08T03:50:04.701+05:30', 'updated_at': '2021-04-08T03:50:04.701+05:30'}, {'id': 41, 'name': 'The Hon. Usha Arora', 'email': 'arora_usha_hon_the@dubuque-daugherty.info', 'gender': 'Male', 'status': 'Active', 'created_at': '2021-04-08T03:50:04.719+05:30', 'updated_at': '2021-04-08T03:50:04.719+05:30'}, {'id': 42, 'name': 'Tara Dubashi DO', 'email': 'dubashi_do_tara@barrows.biz', 'gender': 'Female', 'status': 'Inactive', 'created_at': '2021-04-08T03:50:04.737+05:30', 'updated_at': '2021-04-08T03:50:04.737+05:30'}, {'id': 45, 'name': 'Deepesh Verma', 'email': 'deepesh_verma@brakus-mohr.co', 'gender': 'Female', 'status': 'Active', 'created_at': '2021-04-08T03:50:04.762+05:30', 'updated_at': '2021-04-08T03:50:04.762+05:30'}, {'id': 47, 'name': 'Fr. Amrita Jain', 'email': 'amrita_fr_jain@ratke.co', 'gender': 'Female', 'status': 'Active', 'created_at': '2021-04-08T03:50:04.786+05:30', 'updated_at': '2021-04-08T03:50:04.786+05:30'}, {'id': 48, 'name': 'Chaten Acharya', 'email': 'acharya_chaten@monahan-collins.info', 'gender': 'Female', 'status': 'Active', 'created_at': '2021-04-08T03:50:04.817+05:30', 'updated_at': '2021-04-08T03:50:04.817+05:30'}, {'id': 49, 'name': 'Ambar Namboothiri CPA', 'email': 'cpa_namboothiri_ambar@effertz.org', 'gender': 'Male', 'status': 'Active', 'created_at': '2021-04-08T03:50:04.822+05:30', 'updated_at': '2021-04-08T03:50:04.822+05:30'}, {'id': 51, 'name': 'Kanaka Panicker', 'email': 'kanaka_panicker@gusikowski-johns.com', 'gender': 'Male', 'status': 'Inactive', 'created_at': '2021-04-08T03:50:04.856+05:30', 'updated_at': '2021-04-08T03:50:04.856+05:30'}, {'id': 53, 'name': 'Baala Varman', 'email': 'baala_varman@murazik.com', 'gender': 'Female', 'status': 'Active', 'created_at': '2021-04-08T03:50:04.882+05:30', 'updated_at': '2021-04-08T03:50:04.882+05:30'}, {'id': 54, 'name': 'Subodh Sharma', 'email': 'sharma_subodh@jones.info', 'gender': 'Male', 'status': 'Inactive', 'created_at': '2021-04-08T03:50:04.890+05:30', 'updated_at': '2021-04-08T03:50:04.890+05:30'}, {'id': 55, 'name': 'Bhasvan Tandon', 'email': 'tandon_bhasvan@treutel.io', 'gender': 'Female', 'status': 'Active', 'created_at': '2021-04-08T03:50:04.905+05:30', 'updated_at': '2021-04-08T03:50:04.905+05:30'}, {'id': 56, 'name': 'Lal Somayaji', 'email': 'lal_somayaji@kirlin.io', 'gender': 'Male', 'status': 'Active', 'created_at': '2021-04-08T03:50:04.923+05:30', 'updated_at': '2021-04-08T03:50:04.923+05:30'}, {'id': 57, 'name': 'Miss Dulari Panicker', 'email': 'panicker_miss_dulari@rogahn-kovacek.biz', 'gender': 'Female', 'status': 'Active', 'created_at': '2021-04-08T03:50:04.933+05:30', 'updated_at': '2021-04-08T03:50:04.933+05:30'}, {'id': 58, 'name': 'Shubhaprada Khatri', 'email': 'shubhaprada_khatri@wilderman.name', 'gender': 'Male', 'status': 'Active', 'created_at': '2021-04-08T03:50:04.943+05:30', 'updated_at': '2021-04-08T03:50:04.943+05:30'}]]\n",
            "Request with Male Payload:  <Response [200]>\n",
            "Request with Female Payload:  <Response [200]>\n",
            "Female Payload Request content:  b'{\"code\":200,\"meta\":{\"pagination\":{\"total\":691,\"pages\":35,\"page\":1,\"limit\":20}},\"data\":[{\"id\":37,\"name\":\"Aruna Johar\",\"email\":\"johar_aruna@ruecker-sawayn.info\",\"gender\":\"Female\",\"status\":\"Active\",\"created_at\":\"2021-04-08T03:50:04.663+05:30\",\"updated_at\":\"2021-04-08T03:50:04.663+05:30\"},{\"id\":42,\"name\":\"Tara Dubashi DO\",\"email\":\"dubashi_do_tara@barrows.biz\",\"gender\":\"Female\",\"status\":\"Inactive\",\"created_at\":\"2021-04-08T03:50:04.737+05:30\",\"updated_at\":\"2021-04-08T03:50:04.737+05:30\"},{\"id\":45,\"name\":\"Deepesh Verma\",\"email\":\"deepesh_verma@brakus-mohr.co\",\"gender\":\"Female\",\"status\":\"Active\",\"created_at\":\"2021-04-08T03:50:04.762+05:30\",\"updated_at\":\"2021-04-08T03:50:04.762+05:30\"},{\"id\":47,\"name\":\"Fr. Amrita Jain\",\"email\":\"amrita_fr_jain@ratke.co\",\"gender\":\"Female\",\"status\":\"Active\",\"created_at\":\"2021-04-08T03:50:04.786+05:30\",\"updated_at\":\"2021-04-08T03:50:04.786+05:30\"},{\"id\":48,\"name\":\"Chaten Acharya\",\"email\":\"acharya_chaten@monahan-collins.info\",\"gender\":\"Female\",\"status\":\"Active\",\"created_at\":\"2021-04-08T03:50:04.817+05:30\",\"updated_at\":\"2021-04-08T03:50:04.817+05:30\"},{\"id\":53,\"name\":\"Baala Varman\",\"email\":\"baala_varman@murazik.com\",\"gender\":\"Female\",\"status\":\"Active\",\"created_at\":\"2021-04-08T03:50:04.882+05:30\",\"updated_at\":\"2021-04-08T03:50:04.882+05:30\"},{\"id\":55,\"name\":\"Bhasvan Tandon\",\"email\":\"tandon_bhasvan@treutel.io\",\"gender\":\"Female\",\"status\":\"Active\",\"created_at\":\"2021-04-08T03:50:04.905+05:30\",\"updated_at\":\"2021-04-08T03:50:04.905+05:30\"},{\"id\":57,\"name\":\"Miss Dulari Panicker\",\"email\":\"panicker_miss_dulari@rogahn-kovacek.biz\",\"gender\":\"Female\",\"status\":\"Active\",\"created_at\":\"2021-04-08T03:50:04.933+05:30\",\"updated_at\":\"2021-04-08T03:50:04.933+05:30\"},{\"id\":59,\"name\":\"Jagadisha Shukla\",\"email\":\"shukla_jagadisha@friesen.name\",\"gender\":\"Female\",\"status\":\"Inactive\",\"created_at\":\"2021-04-08T03:50:04.947+05:30\",\"updated_at\":\"2021-04-08T03:50:04.947+05:30\"},{\"id\":61,\"name\":\"Gouranga Achari\",\"email\":\"achari_gouranga@murray-mckenzie.co\",\"gender\":\"Female\",\"status\":\"Active\",\"created_at\":\"2021-04-08T03:50:04.981+05:30\",\"updated_at\":\"2021-04-08T03:50:04.981+05:30\"},{\"id\":63,\"name\":\"Nawal Devar VM\",\"email\":\"devar_vm_nawal@hettinger.co\",\"gender\":\"Female\",\"status\":\"Inactive\",\"created_at\":\"2021-04-08T03:50:05.021+05:30\",\"updated_at\":\"2021-04-08T03:50:05.021+05:30\"},{\"id\":65,\"name\":\"Asha Arora\",\"email\":\"asha_arora@gleichner.name\",\"gender\":\"Female\",\"status\":\"Active\",\"created_at\":\"2021-04-08T03:50:05.039+05:30\",\"updated_at\":\"2021-04-08T03:50:05.039+05:30\"},{\"id\":66,\"name\":\"Bhadra Malik\",\"email\":\"malik_bhadra@turcotte.info\",\"gender\":\"Female\",\"status\":\"Inactive\",\"created_at\":\"2021-04-08T03:50:05.063+05:30\",\"updated_at\":\"2021-04-08T03:50:05.063+05:30\"},{\"id\":68,\"name\":\"Chanakya Sinha\",\"email\":\"chanakya_sinha@bauch.io\",\"gender\":\"Female\",\"status\":\"Active\",\"created_at\":\"2021-04-08T03:50:05.080+05:30\",\"updated_at\":\"2021-04-08T03:50:05.080+05:30\"},{\"id\":70,\"name\":\"Menka Mehra\",\"email\":\"menka_mehra@kuphal.co\",\"gender\":\"Female\",\"status\":\"Inactive\",\"created_at\":\"2021-04-08T03:50:05.113+05:30\",\"updated_at\":\"2021-04-08T03:50:05.113+05:30\"},{\"id\":71,\"name\":\"Balachandra Khatri Jr.\",\"email\":\"balachandra_jr_khatri@parisian.io\",\"gender\":\"Female\",\"status\":\"Inactive\",\"created_at\":\"2021-04-08T03:50:05.140+05:30\",\"updated_at\":\"2021-04-08T03:50:05.140+05:30\"},{\"id\":72,\"name\":\"Fr. Devangana Jha\",\"email\":\"devangana_fr_jha@franecki.net\",\"gender\":\"Female\",\"status\":\"Active\",\"created_at\":\"2021-04-08T03:50:05.164+05:30\",\"updated_at\":\"2021-04-08T03:50:05.164+05:30\"},{\"id\":73,\"name\":\"Sharmila Joshi\",\"email\":\"joshi_sharmila@howe.co\",\"gender\":\"Female\",\"status\":\"Inactive\",\"created_at\":\"2021-04-08T03:50:05.185+05:30\",\"updated_at\":\"2021-04-08T03:50:05.185+05:30\"},{\"id\":75,\"name\":\"Bhargava Talwar\",\"email\":\"talwar_bhargava@schamberger.io\",\"gender\":\"Female\",\"status\":\"Active\",\"created_at\":\"2021-04-08T03:50:05.223+05:30\",\"updated_at\":\"2021-04-08T03:50:05.223+05:30\"},{\"id\":76,\"name\":\"Avantika Menon\",\"email\":\"avantika_menon@mclaughlin.biz\",\"gender\":\"Female\",\"status\":\"Active\",\"created_at\":\"2021-04-08T03:50:05.245+05:30\",\"updated_at\":\"2021-04-08T03:50:05.245+05:30\"}]}'\n",
            "Male Payload Request content:  b'{\"code\":200,\"meta\":{\"pagination\":{\"total\":745,\"pages\":38,\"page\":1,\"limit\":20}},\"data\":[{\"id\":26,\"name\":\"Washington Luis Cabral da Silva\",\"email\":\"wluissilva@live.com\",\"gender\":\"Male\",\"status\":\"Active\",\"created_at\":\"2021-04-08T03:50:04.511+05:30\",\"updated_at\":\"2021-04-08T08:32:46.145+05:30\"},{\"id\":33,\"name\":\"Rukmin Deshpande\",\"email\":\"deshpande_rukmin@walker.io\",\"gender\":\"Male\",\"status\":\"Inactive\",\"created_at\":\"2021-04-08T03:50:04.624+05:30\",\"updated_at\":\"2021-04-08T03:50:04.624+05:30\"},{\"id\":34,\"name\":\"Chiranjeeve Somayaji\",\"email\":\"chiranjeeve_somayaji@batz.biz\",\"gender\":\"Male\",\"status\":\"Active\",\"created_at\":\"2021-04-08T03:50:04.633+05:30\",\"updated_at\":\"2021-04-08T03:50:04.633+05:30\"},{\"id\":35,\"name\":\"Bhagirathi Kocchar IV\",\"email\":\"bhagirathi_kocchar_iv@lehner.biz\",\"gender\":\"Male\",\"status\":\"Inactive\",\"created_at\":\"2021-04-08T03:50:04.637+05:30\",\"updated_at\":\"2021-04-08T03:50:04.637+05:30\"},{\"id\":36,\"name\":\"Anasuya Shah III\",\"email\":\"anasuya_shah_iii@barrows.org\",\"gender\":\"Male\",\"status\":\"Active\",\"created_at\":\"2021-04-08T03:50:04.648+05:30\",\"updated_at\":\"2021-04-08T03:50:04.648+05:30\"},{\"id\":39,\"name\":\"Kamala Bandopadhyay\",\"email\":\"bandopadhyay_kamala@krajcik.info\",\"gender\":\"Male\",\"status\":\"Inactive\",\"created_at\":\"2021-04-08T03:50:04.701+05:30\",\"updated_at\":\"2021-04-08T03:50:04.701+05:30\"},{\"id\":41,\"name\":\"The Hon. Usha Arora\",\"email\":\"arora_usha_hon_the@dubuque-daugherty.info\",\"gender\":\"Male\",\"status\":\"Active\",\"created_at\":\"2021-04-08T03:50:04.719+05:30\",\"updated_at\":\"2021-04-08T03:50:04.719+05:30\"},{\"id\":49,\"name\":\"Ambar Namboothiri CPA\",\"email\":\"cpa_namboothiri_ambar@effertz.org\",\"gender\":\"Male\",\"status\":\"Active\",\"created_at\":\"2021-04-08T03:50:04.822+05:30\",\"updated_at\":\"2021-04-08T03:50:04.822+05:30\"},{\"id\":51,\"name\":\"Kanaka Panicker\",\"email\":\"kanaka_panicker@gusikowski-johns.com\",\"gender\":\"Male\",\"status\":\"Inactive\",\"created_at\":\"2021-04-08T03:50:04.856+05:30\",\"updated_at\":\"2021-04-08T03:50:04.856+05:30\"},{\"id\":54,\"name\":\"Subodh Sharma\",\"email\":\"sharma_subodh@jones.info\",\"gender\":\"Male\",\"status\":\"Inactive\",\"created_at\":\"2021-04-08T03:50:04.890+05:30\",\"updated_at\":\"2021-04-08T03:50:04.890+05:30\"},{\"id\":56,\"name\":\"Lal Somayaji\",\"email\":\"lal_somayaji@kirlin.io\",\"gender\":\"Male\",\"status\":\"Active\",\"created_at\":\"2021-04-08T03:50:04.923+05:30\",\"updated_at\":\"2021-04-08T03:50:04.923+05:30\"},{\"id\":58,\"name\":\"Shubhaprada Khatri\",\"email\":\"shubhaprada_khatri@wilderman.name\",\"gender\":\"Male\",\"status\":\"Active\",\"created_at\":\"2021-04-08T03:50:04.943+05:30\",\"updated_at\":\"2021-04-08T03:50:04.943+05:30\"},{\"id\":62,\"name\":\"Gopaal Rana\",\"email\":\"rana_gopaal@bailey.biz\",\"gender\":\"Male\",\"status\":\"Inactive\",\"created_at\":\"2021-04-08T03:50:05.003+05:30\",\"updated_at\":\"2021-04-08T03:50:05.003+05:30\"},{\"id\":64,\"name\":\"Rukhmani Mehrotra\",\"email\":\"rukhmani_mehrotra@jenkins.info\",\"gender\":\"Male\",\"status\":\"Active\",\"created_at\":\"2021-04-08T03:50:05.027+05:30\",\"updated_at\":\"2021-04-08T03:50:05.027+05:30\"},{\"id\":67,\"name\":\"Deepan Panicker Esq.\",\"email\":\"deepan_panicker_esq@bahringer.net\",\"gender\":\"Male\",\"status\":\"Active\",\"created_at\":\"2021-04-08T03:50:05.071+05:30\",\"updated_at\":\"2021-04-08T03:50:05.071+05:30\"},{\"id\":69,\"name\":\"Uttam Shah\",\"email\":\"uttam_shah@ziemann.org\",\"gender\":\"Male\",\"status\":\"Active\",\"created_at\":\"2021-04-08T03:50:05.095+05:30\",\"updated_at\":\"2021-04-08T03:50:05.095+05:30\"},{\"id\":74,\"name\":\"Anasooya Trivedi\",\"email\":\"anasooya_trivedi@fisher.io\",\"gender\":\"Male\",\"status\":\"Active\",\"created_at\":\"2021-04-08T03:50:05.214+05:30\",\"updated_at\":\"2021-04-08T03:50:05.214+05:30\"},{\"id\":77,\"name\":\"Pres. Devi Reddy\",\"email\":\"devi_reddy_pres@jacobs.co\",\"gender\":\"Male\",\"status\":\"Inactive\",\"created_at\":\"2021-04-08T03:50:05.264+05:30\",\"updated_at\":\"2021-04-08T03:50:05.264+05:30\"},{\"id\":78,\"name\":\"Akshata Chaturvedi\",\"email\":\"chaturvedi_akshata@sporer.org\",\"gender\":\"Male\",\"status\":\"Inactive\",\"created_at\":\"2021-04-08T03:50:05.274+05:30\",\"updated_at\":\"2021-04-08T03:50:05.274+05:30\"},{\"id\":80,\"name\":\"Goswamee Sinha\",\"email\":\"goswamee_sinha@brown-halvorson.net\",\"gender\":\"Male\",\"status\":\"Inactive\",\"created_at\":\"2021-04-08T03:50:05.307+05:30\",\"updated_at\":\"2021-04-08T03:50:05.307+05:30\"}]}'\n"
          ],
          "name": "stdout"
        }
      ]
    },
    {
      "cell_type": "code",
      "metadata": {
        "colab": {
          "base_uri": "https://localhost:8080/"
        },
        "id": "hV6KBJ3STy0Q",
        "outputId": "2bb68573-1a79-4236-81d5-0752b2386db4"
      },
      "source": [
        "ProcessingGetRequestsUsingRequestSingleFiles(url2)\n",
        "ProcessingGetRequestsUsingRequestSingleFiles(url4)\n",
        "ProcessingGetRequestsUsingRequestSingleFiles(url5)"
      ],
      "execution_count": 7,
      "outputs": [
        {
          "output_type": "stream",
          "text": [
            "Response For:  https://gorest.co.in/public-api/users/122\n",
            "Response:  <Response [200]>\n",
            "Content:  b'{\"code\":200,\"meta\":null,\"data\":{\"id\":122,\"name\":\"Karunanidhi Acharya\",\"email\":\"acharya_karunanidhi@sporer.org\",\"gender\":\"Female\",\"status\":\"Inactive\",\"created_at\":\"2021-04-08T03:50:05.885+05:30\",\"updated_at\":\"2021-04-08T03:50:05.885+05:30\"}}'\n",
            "{\"code\":200,\"meta\":null,\"data\":{\"id\":122,\"name\":\"Karunanidhi Acharya\",\"email\":\"acharya_karunanidhi@sporer.org\",\"gender\":\"Female\",\"status\":\"Inactive\",\"created_at\":\"2021-04-08T03:50:05.885+05:30\",\"updated_at\":\"2021-04-08T03:50:05.885+05:30\"}}\n",
            "122\n",
            "Karunanidhi Acharya\n",
            "acharya_karunanidhi@sporer.org\n",
            "Female\n",
            "Inactive\n",
            "2021-04-08T03:50:05.885+05:30\n",
            "2021-04-08T03:50:05.885+05:30\n",
            "Is the User Male:  False\n",
            "Response For:  https://gorest.co.in/public-api/users/123\n",
            "Response:  <Response [200]>\n",
            "Content:  b'{\"code\":404,\"meta\":null,\"data\":{\"message\":\"Resource not found\"}}'\n",
            "{\"code\":404,\"meta\":null,\"data\":{\"message\":\"Resource not found\"}}\n",
            "Resource not found\n",
            "Response For:  https://gorest.co.in/public-api/users/121\n",
            "Response:  <Response [200]>\n",
            "Content:  b'{\"code\":200,\"meta\":null,\"data\":{\"id\":121,\"name\":\"Amb. Chitramala Butt\",\"email\":\"chitramala_amb_butt@rice.name\",\"gender\":\"Male\",\"status\":\"Active\",\"created_at\":\"2021-04-08T03:50:05.879+05:30\",\"updated_at\":\"2021-04-08T03:50:05.879+05:30\"}}'\n",
            "{\"code\":200,\"meta\":null,\"data\":{\"id\":121,\"name\":\"Amb. Chitramala Butt\",\"email\":\"chitramala_amb_butt@rice.name\",\"gender\":\"Male\",\"status\":\"Active\",\"created_at\":\"2021-04-08T03:50:05.879+05:30\",\"updated_at\":\"2021-04-08T03:50:05.879+05:30\"}}\n",
            "121\n",
            "Amb. Chitramala Butt\n",
            "chitramala_amb_butt@rice.name\n",
            "Male\n",
            "Active\n",
            "2021-04-08T03:50:05.879+05:30\n",
            "2021-04-08T03:50:05.879+05:30\n",
            "Is the User Male:  True\n"
          ],
          "name": "stdout"
        }
      ]
    },
    {
      "cell_type": "code",
      "metadata": {
        "id": "QChr8izCj3zz"
      },
      "source": [
        "def ProcessingDeleteRequestsUsingRequest(URLDelete):\n",
        "  response3 = requests.delete(URLDelete)\n",
        "  print(response3.status_code)\n",
        "  assert response3.status_code == 204\n"
      ],
      "execution_count": 8,
      "outputs": []
    },
    {
      "cell_type": "code",
      "metadata": {
        "colab": {
          "base_uri": "https://localhost:8080/"
        },
        "id": "7JB8aTcN30X1",
        "outputId": "f4599dd4-edbe-4600-e760-164931d8e37c"
      },
      "source": [
        "ProcessingDeleteRequestsUsingRequest(url3) #Sucessful Delete\n",
        "#ProcessingDeleteRequestsUsingRequest(url2) #Unsuccesful delete - Gives Assertion Error when Run"
      ],
      "execution_count": 9,
      "outputs": [
        {
          "output_type": "stream",
          "text": [
            "204\n"
          ],
          "name": "stdout"
        }
      ]
    },
    {
      "cell_type": "code",
      "metadata": {
        "id": "4_TdCzk20VaQ"
      },
      "source": [
        "#Create a JSON Object\n",
        "json_obj = {}\n",
        "json_obj['code'] = 200\n",
        "json_obj['meta'] = None\n",
        "json_obj['data'] = []\n",
        "json_obj['data'].append({\n",
        "    'id' : 123,\n",
        "    'name' : 'John Doe',\n",
        "    'email' : 'jd@mailinator.com',\n",
        "    'gender' : 'Male',\n",
        "    'status' : 'Active',\n",
        "    'created_at' : '2021-04-08T03:50:05.879+05:30',\n",
        "    'updated_at' : '2021-04-08T03:50:05.879+05:30'\n",
        "    })\n",
        "#Write the object to file.\n",
        "with open('example.json','w') as jsonFile:\n",
        "    json.dump(json_obj, jsonFile)"
      ],
      "execution_count": 10,
      "outputs": []
    },
    {
      "cell_type": "code",
      "metadata": {
        "id": "ZO1zuMBw6xB5"
      },
      "source": [
        "json_obj1 = {}\n",
        "json_obj1['code'] = 200\n",
        "json_obj1['meta'] = None\n",
        "json_obj1['data'] = []\n",
        "json_obj1['data'].append({\n",
        "    'id' : 500,\n",
        "    'name' : 'John Doe',\n",
        "    'email' : 'jd@mailinator.com',\n",
        "    'gender' : 'Male',\n",
        "    'status' : 'Active',\n",
        "    'created_at' : '2021-04-08T03:50:05.879+05:30',\n",
        "    'updated_at' : '2021-04-08T03:50:05.879+05:30'\n",
        "    })\n",
        "#Write the object to file.\n",
        "with open('example1.json','w') as jsonFile:\n",
        "    json.dump(json_obj1, jsonFile)"
      ],
      "execution_count": 11,
      "outputs": []
    },
    {
      "cell_type": "code",
      "metadata": {
        "id": "tfYd8l6dplg1"
      },
      "source": [
        "def ProcessingPUTRequestsUsingRequest(URLPUTJSON):\n",
        "  file = open('example.json','r')\n",
        "  file_json = file.read()\n",
        "  request_json = json.loads(file_json)\n",
        "  response4 = requests.put(URLPUTJSON,request_json)\n",
        "\n",
        "  responsedoublecheck = json.loads(response4.text)\n",
        "  newData = jsonpath.jsonpath(responsedoublecheck,'code')\n",
        "  print(newData)\n",
        "\n"
      ],
      "execution_count": 12,
      "outputs": []
    },
    {
      "cell_type": "code",
      "metadata": {
        "colab": {
          "base_uri": "https://localhost:8080/"
        },
        "id": "hlC23r1p5Y-I",
        "outputId": "a5261529-8f95-4a80-d03d-58f82a9c1c5e"
      },
      "source": [
        "ProcessingPUTRequestsUsingRequest(url4)"
      ],
      "execution_count": 13,
      "outputs": [
        {
          "output_type": "stream",
          "text": [
            "[404]\n"
          ],
          "name": "stdout"
        }
      ]
    },
    {
      "cell_type": "code",
      "metadata": {
        "id": "9ssuwqCD6Pey"
      },
      "source": [
        "import pytest"
      ],
      "execution_count": 14,
      "outputs": []
    },
    {
      "cell_type": "code",
      "metadata": {
        "id": "DX5Z7wZI6cq1"
      },
      "source": [
        "def test_create_new_user(URLPOSTJSON):\n",
        "  file = open('example1.json','r')\n",
        "  file_json = file.read()\n",
        "  request_json = json.loads(file_json)\n",
        "  response4 = requests.post(URLPOSTJSON,request_json)\n",
        "\n",
        "  responsedoublecheck = json.loads(response4.text)\n",
        "  newData = jsonpath.jsonpath(responsedoublecheck,'code')\n",
        "  print(newData)"
      ],
      "execution_count": 17,
      "outputs": []
    },
    {
      "cell_type": "code",
      "metadata": {
        "colab": {
          "base_uri": "https://localhost:8080/"
        },
        "id": "N3dBbaLq7IeA",
        "outputId": "c5efb675-7da3-4f50-fcb3-34d095e79ab3"
      },
      "source": [
        "test_create_new_user(url)"
      ],
      "execution_count": 18,
      "outputs": [
        {
          "output_type": "stream",
          "text": [
            "[401]\n"
          ],
          "name": "stdout"
        }
      ]
    }
  ]
}